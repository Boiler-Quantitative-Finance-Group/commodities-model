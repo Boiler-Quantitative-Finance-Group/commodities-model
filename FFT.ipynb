{
  "nbformat": 4,
  "nbformat_minor": 0,
  "metadata": {
    "colab": {
      "provenance": []
    },
    "kernelspec": {
      "name": "python3",
      "display_name": "Python 3"
    },
    "language_info": {
      "name": "python"
    }
  },
  "cells": [
    {
      "cell_type": "code",
      "source": [
        "!pip install alpaca-py"
      ],
      "metadata": {
        "colab": {
          "base_uri": "https://localhost:8080/"
        },
        "id": "sy2GEovCbjqh",
        "outputId": "1c3c4d90-a424-4f62-a581-778c2501f29a"
      },
      "execution_count": 1,
      "outputs": [
        {
          "output_type": "stream",
          "name": "stdout",
          "text": [
            "Requirement already satisfied: alpaca-py in /usr/local/lib/python3.10/dist-packages (0.16.0)\n",
            "Requirement already satisfied: msgpack<2.0.0,>=1.0.3 in /usr/local/lib/python3.10/dist-packages (from alpaca-py) (1.0.7)\n",
            "Requirement already satisfied: pandas>=1.5.3 in /usr/local/lib/python3.10/dist-packages (from alpaca-py) (1.5.3)\n",
            "Requirement already satisfied: pydantic<3.0.0,>=2.0.3 in /usr/local/lib/python3.10/dist-packages (from alpaca-py) (2.6.1)\n",
            "Requirement already satisfied: requests<3.0.0,>=2.30.0 in /usr/local/lib/python3.10/dist-packages (from alpaca-py) (2.31.0)\n",
            "Requirement already satisfied: sseclient-py<2.0.0,>=1.7.2 in /usr/local/lib/python3.10/dist-packages (from alpaca-py) (1.8.0)\n",
            "Requirement already satisfied: websockets<12.0.0,>=11.0.3 in /usr/local/lib/python3.10/dist-packages (from alpaca-py) (11.0.3)\n",
            "Requirement already satisfied: python-dateutil>=2.8.1 in /usr/local/lib/python3.10/dist-packages (from pandas>=1.5.3->alpaca-py) (2.8.2)\n",
            "Requirement already satisfied: pytz>=2020.1 in /usr/local/lib/python3.10/dist-packages (from pandas>=1.5.3->alpaca-py) (2023.4)\n",
            "Requirement already satisfied: numpy>=1.21.0 in /usr/local/lib/python3.10/dist-packages (from pandas>=1.5.3->alpaca-py) (1.25.2)\n",
            "Requirement already satisfied: annotated-types>=0.4.0 in /usr/local/lib/python3.10/dist-packages (from pydantic<3.0.0,>=2.0.3->alpaca-py) (0.6.0)\n",
            "Requirement already satisfied: pydantic-core==2.16.2 in /usr/local/lib/python3.10/dist-packages (from pydantic<3.0.0,>=2.0.3->alpaca-py) (2.16.2)\n",
            "Requirement already satisfied: typing-extensions>=4.6.1 in /usr/local/lib/python3.10/dist-packages (from pydantic<3.0.0,>=2.0.3->alpaca-py) (4.9.0)\n",
            "Requirement already satisfied: charset-normalizer<4,>=2 in /usr/local/lib/python3.10/dist-packages (from requests<3.0.0,>=2.30.0->alpaca-py) (3.3.2)\n",
            "Requirement already satisfied: idna<4,>=2.5 in /usr/local/lib/python3.10/dist-packages (from requests<3.0.0,>=2.30.0->alpaca-py) (3.6)\n",
            "Requirement already satisfied: urllib3<3,>=1.21.1 in /usr/local/lib/python3.10/dist-packages (from requests<3.0.0,>=2.30.0->alpaca-py) (2.0.7)\n",
            "Requirement already satisfied: certifi>=2017.4.17 in /usr/local/lib/python3.10/dist-packages (from requests<3.0.0,>=2.30.0->alpaca-py) (2024.2.2)\n",
            "Requirement already satisfied: six>=1.5 in /usr/local/lib/python3.10/dist-packages (from python-dateutil>=2.8.1->pandas>=1.5.3->alpaca-py) (1.16.0)\n"
          ]
        }
      ]
    },
    {
      "cell_type": "markdown",
      "source": [],
      "metadata": {
        "id": "nv-VgLv3bky7"
      }
    },
    {
      "cell_type": "code",
      "execution_count": 2,
      "metadata": {
        "id": "Bm0M9L3xY5AZ"
      },
      "outputs": [],
      "source": [
        "import pandas as pd\n",
        "import numpy as np\n",
        "import matplotlib.pyplot as plt\n",
        "import scipy.fftpack as ft\n",
        "\n",
        "from alpaca.data import StockHistoricalDataClient, TimeFrame\n",
        "from alpaca.data.requests import StockQuotesRequest, StockBarsRequest"
      ]
    },
    {
      "cell_type": "code",
      "source": [
        "ALPACA_API_KEY_ID = 'API_KEY'\n",
        "ALPACA_API_SECRET_KEY = 'SECRET_KEY'\n",
        "\n",
        "# Instantiate a data client\n",
        "data_client = StockHistoricalDataClient(ALPACA_API_KEY_ID, ALPACA_API_SECRET_KEY)\n",
        "\n",
        "# Set the start time\n",
        "start_time = pd.to_datetime(\"2023-02-26\").tz_localize('America/New_York')# It's generally best to explicitly provide an end time but will default to 'now' if not\n",
        "request_params = StockBarsRequest(\n",
        "    symbol_or_symbols=['SOYB'],\n",
        "    timeframe=TimeFrame.Day,\n",
        "    start=start_time\n",
        "    )"
      ],
      "metadata": {
        "id": "FPYxXYDIZEId"
      },
      "execution_count": 99,
      "outputs": []
    },
    {
      "cell_type": "code",
      "source": [
        "bars_df = data_client.get_stock_bars(request_params).df.tz_convert('America/New_York', level=1)"
      ],
      "metadata": {
        "id": "7uskSH6RbzAk"
      },
      "execution_count": 100,
      "outputs": []
    },
    {
      "cell_type": "code",
      "source": [
        "bars_df.index"
      ],
      "metadata": {
        "colab": {
          "base_uri": "https://localhost:8080/"
        },
        "id": "RCKhV1tBm1dH",
        "outputId": "72fa31b7-9645-4491-ea96-acad98a37a56"
      },
      "execution_count": 101,
      "outputs": [
        {
          "output_type": "execute_result",
          "data": {
            "text/plain": [
              "MultiIndex([('SOYB', '2023-02-27 00:00:00-05:00'),\n",
              "            ('SOYB', '2023-02-28 00:00:00-05:00'),\n",
              "            ('SOYB', '2023-03-01 00:00:00-05:00'),\n",
              "            ('SOYB', '2023-03-02 00:00:00-05:00'),\n",
              "            ('SOYB', '2023-03-03 00:00:00-05:00'),\n",
              "            ('SOYB', '2023-03-06 00:00:00-05:00'),\n",
              "            ('SOYB', '2023-03-07 00:00:00-05:00'),\n",
              "            ('SOYB', '2023-03-08 00:00:00-05:00'),\n",
              "            ('SOYB', '2023-03-09 00:00:00-05:00'),\n",
              "            ('SOYB', '2023-03-10 00:00:00-05:00'),\n",
              "            ...\n",
              "            ('SOYB', '2024-02-12 00:00:00-05:00'),\n",
              "            ('SOYB', '2024-02-13 00:00:00-05:00'),\n",
              "            ('SOYB', '2024-02-14 00:00:00-05:00'),\n",
              "            ('SOYB', '2024-02-15 00:00:00-05:00'),\n",
              "            ('SOYB', '2024-02-16 00:00:00-05:00'),\n",
              "            ('SOYB', '2024-02-20 00:00:00-05:00'),\n",
              "            ('SOYB', '2024-02-21 00:00:00-05:00'),\n",
              "            ('SOYB', '2024-02-22 00:00:00-05:00'),\n",
              "            ('SOYB', '2024-02-23 00:00:00-05:00'),\n",
              "            ('SOYB', '2024-02-26 00:00:00-05:00')],\n",
              "           names=['symbol', 'timestamp'], length=251)"
            ]
          },
          "metadata": {},
          "execution_count": 101
        }
      ]
    },
    {
      "cell_type": "code",
      "source": [],
      "metadata": {
        "id": "OAzx7DbsvTdh"
      },
      "execution_count": 80,
      "outputs": []
    },
    {
      "cell_type": "code",
      "source": [
        "import pandas as pd\n",
        "\n",
        "# Assuming bars_df is your DataFrame\n",
        "# Convert the index to datetime\n",
        "bars_df.index = pd.to_datetime(bars_df.index.get_level_values(1))\n",
        "bars_df.index = bars_df.index.date\n",
        "\n",
        "# Now your index is converted to a datetime index\n",
        "print(bars_df.index)"
      ],
      "metadata": {
        "colab": {
          "base_uri": "https://localhost:8080/"
        },
        "id": "0jB6eaPknzuz",
        "outputId": "661abf3a-0459-47a5-af96-2193efe5cf19"
      },
      "execution_count": 102,
      "outputs": [
        {
          "output_type": "stream",
          "name": "stdout",
          "text": [
            "Index([2023-02-27, 2023-02-28, 2023-03-01, 2023-03-02, 2023-03-03, 2023-03-06,\n",
            "       2023-03-07, 2023-03-08, 2023-03-09, 2023-03-10,\n",
            "       ...\n",
            "       2024-02-12, 2024-02-13, 2024-02-14, 2024-02-15, 2024-02-16, 2024-02-20,\n",
            "       2024-02-21, 2024-02-22, 2024-02-23, 2024-02-26],\n",
            "      dtype='object', length=251)\n"
          ]
        }
      ]
    },
    {
      "cell_type": "code",
      "source": [
        "bars_df"
      ],
      "metadata": {
        "colab": {
          "base_uri": "https://localhost:8080/",
          "height": 424
        },
        "id": "twkcJOUOoWKB",
        "outputId": "f061da5c-fb09-4ef9-d136-b5da28ac65f7"
      },
      "execution_count": 103,
      "outputs": [
        {
          "output_type": "execute_result",
          "data": {
            "text/plain": [
              "             open     high      low    close    volume  trade_count       vwap\n",
              "2023-02-27  28.26  28.2600  27.9900  28.0300   21054.0        235.0  28.048651\n",
              "2023-02-28  27.87  27.8700  27.4400  27.5000  143104.0        683.0  27.534114\n",
              "2023-03-01  27.56  27.8100  27.5600  27.7000  114477.0        400.0  27.700634\n",
              "2023-03-02  27.50  28.0700  27.5000  27.9600   24130.0        196.0  27.945100\n",
              "2023-03-03  28.00  28.2044  28.0000  28.1800   11492.0        155.0  28.141768\n",
              "...           ...      ...      ...      ...       ...          ...        ...\n",
              "2024-02-20  24.77  24.8990  24.6450  24.7842   17988.0        212.0  24.808517\n",
              "2024-02-21  24.58  24.5800  24.3601  24.4100   16501.0        199.0  24.460454\n",
              "2024-02-22  24.43  24.4700  24.1300  24.2200   38349.0        265.0  24.261405\n",
              "2024-02-23  24.14  24.1401  23.9400  24.0500   28601.0        298.0  24.031474\n",
              "2024-02-26  23.95  24.1000  23.8478  24.0350   43328.0        207.0  23.988511\n",
              "\n",
              "[251 rows x 7 columns]"
            ],
            "text/html": [
              "\n",
              "  <div id=\"df-a8e880f2-47d0-4d54-9849-44eae150b4a0\" class=\"colab-df-container\">\n",
              "    <div>\n",
              "<style scoped>\n",
              "    .dataframe tbody tr th:only-of-type {\n",
              "        vertical-align: middle;\n",
              "    }\n",
              "\n",
              "    .dataframe tbody tr th {\n",
              "        vertical-align: top;\n",
              "    }\n",
              "\n",
              "    .dataframe thead th {\n",
              "        text-align: right;\n",
              "    }\n",
              "</style>\n",
              "<table border=\"1\" class=\"dataframe\">\n",
              "  <thead>\n",
              "    <tr style=\"text-align: right;\">\n",
              "      <th></th>\n",
              "      <th>open</th>\n",
              "      <th>high</th>\n",
              "      <th>low</th>\n",
              "      <th>close</th>\n",
              "      <th>volume</th>\n",
              "      <th>trade_count</th>\n",
              "      <th>vwap</th>\n",
              "    </tr>\n",
              "  </thead>\n",
              "  <tbody>\n",
              "    <tr>\n",
              "      <th>2023-02-27</th>\n",
              "      <td>28.26</td>\n",
              "      <td>28.2600</td>\n",
              "      <td>27.9900</td>\n",
              "      <td>28.0300</td>\n",
              "      <td>21054.0</td>\n",
              "      <td>235.0</td>\n",
              "      <td>28.048651</td>\n",
              "    </tr>\n",
              "    <tr>\n",
              "      <th>2023-02-28</th>\n",
              "      <td>27.87</td>\n",
              "      <td>27.8700</td>\n",
              "      <td>27.4400</td>\n",
              "      <td>27.5000</td>\n",
              "      <td>143104.0</td>\n",
              "      <td>683.0</td>\n",
              "      <td>27.534114</td>\n",
              "    </tr>\n",
              "    <tr>\n",
              "      <th>2023-03-01</th>\n",
              "      <td>27.56</td>\n",
              "      <td>27.8100</td>\n",
              "      <td>27.5600</td>\n",
              "      <td>27.7000</td>\n",
              "      <td>114477.0</td>\n",
              "      <td>400.0</td>\n",
              "      <td>27.700634</td>\n",
              "    </tr>\n",
              "    <tr>\n",
              "      <th>2023-03-02</th>\n",
              "      <td>27.50</td>\n",
              "      <td>28.0700</td>\n",
              "      <td>27.5000</td>\n",
              "      <td>27.9600</td>\n",
              "      <td>24130.0</td>\n",
              "      <td>196.0</td>\n",
              "      <td>27.945100</td>\n",
              "    </tr>\n",
              "    <tr>\n",
              "      <th>2023-03-03</th>\n",
              "      <td>28.00</td>\n",
              "      <td>28.2044</td>\n",
              "      <td>28.0000</td>\n",
              "      <td>28.1800</td>\n",
              "      <td>11492.0</td>\n",
              "      <td>155.0</td>\n",
              "      <td>28.141768</td>\n",
              "    </tr>\n",
              "    <tr>\n",
              "      <th>...</th>\n",
              "      <td>...</td>\n",
              "      <td>...</td>\n",
              "      <td>...</td>\n",
              "      <td>...</td>\n",
              "      <td>...</td>\n",
              "      <td>...</td>\n",
              "      <td>...</td>\n",
              "    </tr>\n",
              "    <tr>\n",
              "      <th>2024-02-20</th>\n",
              "      <td>24.77</td>\n",
              "      <td>24.8990</td>\n",
              "      <td>24.6450</td>\n",
              "      <td>24.7842</td>\n",
              "      <td>17988.0</td>\n",
              "      <td>212.0</td>\n",
              "      <td>24.808517</td>\n",
              "    </tr>\n",
              "    <tr>\n",
              "      <th>2024-02-21</th>\n",
              "      <td>24.58</td>\n",
              "      <td>24.5800</td>\n",
              "      <td>24.3601</td>\n",
              "      <td>24.4100</td>\n",
              "      <td>16501.0</td>\n",
              "      <td>199.0</td>\n",
              "      <td>24.460454</td>\n",
              "    </tr>\n",
              "    <tr>\n",
              "      <th>2024-02-22</th>\n",
              "      <td>24.43</td>\n",
              "      <td>24.4700</td>\n",
              "      <td>24.1300</td>\n",
              "      <td>24.2200</td>\n",
              "      <td>38349.0</td>\n",
              "      <td>265.0</td>\n",
              "      <td>24.261405</td>\n",
              "    </tr>\n",
              "    <tr>\n",
              "      <th>2024-02-23</th>\n",
              "      <td>24.14</td>\n",
              "      <td>24.1401</td>\n",
              "      <td>23.9400</td>\n",
              "      <td>24.0500</td>\n",
              "      <td>28601.0</td>\n",
              "      <td>298.0</td>\n",
              "      <td>24.031474</td>\n",
              "    </tr>\n",
              "    <tr>\n",
              "      <th>2024-02-26</th>\n",
              "      <td>23.95</td>\n",
              "      <td>24.1000</td>\n",
              "      <td>23.8478</td>\n",
              "      <td>24.0350</td>\n",
              "      <td>43328.0</td>\n",
              "      <td>207.0</td>\n",
              "      <td>23.988511</td>\n",
              "    </tr>\n",
              "  </tbody>\n",
              "</table>\n",
              "<p>251 rows × 7 columns</p>\n",
              "</div>\n",
              "    <div class=\"colab-df-buttons\">\n",
              "\n",
              "  <div class=\"colab-df-container\">\n",
              "    <button class=\"colab-df-convert\" onclick=\"convertToInteractive('df-a8e880f2-47d0-4d54-9849-44eae150b4a0')\"\n",
              "            title=\"Convert this dataframe to an interactive table.\"\n",
              "            style=\"display:none;\">\n",
              "\n",
              "  <svg xmlns=\"http://www.w3.org/2000/svg\" height=\"24px\" viewBox=\"0 -960 960 960\">\n",
              "    <path d=\"M120-120v-720h720v720H120Zm60-500h600v-160H180v160Zm220 220h160v-160H400v160Zm0 220h160v-160H400v160ZM180-400h160v-160H180v160Zm440 0h160v-160H620v160ZM180-180h160v-160H180v160Zm440 0h160v-160H620v160Z\"/>\n",
              "  </svg>\n",
              "    </button>\n",
              "\n",
              "  <style>\n",
              "    .colab-df-container {\n",
              "      display:flex;\n",
              "      gap: 12px;\n",
              "    }\n",
              "\n",
              "    .colab-df-convert {\n",
              "      background-color: #E8F0FE;\n",
              "      border: none;\n",
              "      border-radius: 50%;\n",
              "      cursor: pointer;\n",
              "      display: none;\n",
              "      fill: #1967D2;\n",
              "      height: 32px;\n",
              "      padding: 0 0 0 0;\n",
              "      width: 32px;\n",
              "    }\n",
              "\n",
              "    .colab-df-convert:hover {\n",
              "      background-color: #E2EBFA;\n",
              "      box-shadow: 0px 1px 2px rgba(60, 64, 67, 0.3), 0px 1px 3px 1px rgba(60, 64, 67, 0.15);\n",
              "      fill: #174EA6;\n",
              "    }\n",
              "\n",
              "    .colab-df-buttons div {\n",
              "      margin-bottom: 4px;\n",
              "    }\n",
              "\n",
              "    [theme=dark] .colab-df-convert {\n",
              "      background-color: #3B4455;\n",
              "      fill: #D2E3FC;\n",
              "    }\n",
              "\n",
              "    [theme=dark] .colab-df-convert:hover {\n",
              "      background-color: #434B5C;\n",
              "      box-shadow: 0px 1px 3px 1px rgba(0, 0, 0, 0.15);\n",
              "      filter: drop-shadow(0px 1px 2px rgba(0, 0, 0, 0.3));\n",
              "      fill: #FFFFFF;\n",
              "    }\n",
              "  </style>\n",
              "\n",
              "    <script>\n",
              "      const buttonEl =\n",
              "        document.querySelector('#df-a8e880f2-47d0-4d54-9849-44eae150b4a0 button.colab-df-convert');\n",
              "      buttonEl.style.display =\n",
              "        google.colab.kernel.accessAllowed ? 'block' : 'none';\n",
              "\n",
              "      async function convertToInteractive(key) {\n",
              "        const element = document.querySelector('#df-a8e880f2-47d0-4d54-9849-44eae150b4a0');\n",
              "        const dataTable =\n",
              "          await google.colab.kernel.invokeFunction('convertToInteractive',\n",
              "                                                    [key], {});\n",
              "        if (!dataTable) return;\n",
              "\n",
              "        const docLinkHtml = 'Like what you see? Visit the ' +\n",
              "          '<a target=\"_blank\" href=https://colab.research.google.com/notebooks/data_table.ipynb>data table notebook</a>'\n",
              "          + ' to learn more about interactive tables.';\n",
              "        element.innerHTML = '';\n",
              "        dataTable['output_type'] = 'display_data';\n",
              "        await google.colab.output.renderOutput(dataTable, element);\n",
              "        const docLink = document.createElement('div');\n",
              "        docLink.innerHTML = docLinkHtml;\n",
              "        element.appendChild(docLink);\n",
              "      }\n",
              "    </script>\n",
              "  </div>\n",
              "\n",
              "\n",
              "<div id=\"df-04bb631e-8ffe-4f62-a93f-6ed872f40211\">\n",
              "  <button class=\"colab-df-quickchart\" onclick=\"quickchart('df-04bb631e-8ffe-4f62-a93f-6ed872f40211')\"\n",
              "            title=\"Suggest charts\"\n",
              "            style=\"display:none;\">\n",
              "\n",
              "<svg xmlns=\"http://www.w3.org/2000/svg\" height=\"24px\"viewBox=\"0 0 24 24\"\n",
              "     width=\"24px\">\n",
              "    <g>\n",
              "        <path d=\"M19 3H5c-1.1 0-2 .9-2 2v14c0 1.1.9 2 2 2h14c1.1 0 2-.9 2-2V5c0-1.1-.9-2-2-2zM9 17H7v-7h2v7zm4 0h-2V7h2v10zm4 0h-2v-4h2v4z\"/>\n",
              "    </g>\n",
              "</svg>\n",
              "  </button>\n",
              "\n",
              "<style>\n",
              "  .colab-df-quickchart {\n",
              "      --bg-color: #E8F0FE;\n",
              "      --fill-color: #1967D2;\n",
              "      --hover-bg-color: #E2EBFA;\n",
              "      --hover-fill-color: #174EA6;\n",
              "      --disabled-fill-color: #AAA;\n",
              "      --disabled-bg-color: #DDD;\n",
              "  }\n",
              "\n",
              "  [theme=dark] .colab-df-quickchart {\n",
              "      --bg-color: #3B4455;\n",
              "      --fill-color: #D2E3FC;\n",
              "      --hover-bg-color: #434B5C;\n",
              "      --hover-fill-color: #FFFFFF;\n",
              "      --disabled-bg-color: #3B4455;\n",
              "      --disabled-fill-color: #666;\n",
              "  }\n",
              "\n",
              "  .colab-df-quickchart {\n",
              "    background-color: var(--bg-color);\n",
              "    border: none;\n",
              "    border-radius: 50%;\n",
              "    cursor: pointer;\n",
              "    display: none;\n",
              "    fill: var(--fill-color);\n",
              "    height: 32px;\n",
              "    padding: 0;\n",
              "    width: 32px;\n",
              "  }\n",
              "\n",
              "  .colab-df-quickchart:hover {\n",
              "    background-color: var(--hover-bg-color);\n",
              "    box-shadow: 0 1px 2px rgba(60, 64, 67, 0.3), 0 1px 3px 1px rgba(60, 64, 67, 0.15);\n",
              "    fill: var(--button-hover-fill-color);\n",
              "  }\n",
              "\n",
              "  .colab-df-quickchart-complete:disabled,\n",
              "  .colab-df-quickchart-complete:disabled:hover {\n",
              "    background-color: var(--disabled-bg-color);\n",
              "    fill: var(--disabled-fill-color);\n",
              "    box-shadow: none;\n",
              "  }\n",
              "\n",
              "  .colab-df-spinner {\n",
              "    border: 2px solid var(--fill-color);\n",
              "    border-color: transparent;\n",
              "    border-bottom-color: var(--fill-color);\n",
              "    animation:\n",
              "      spin 1s steps(1) infinite;\n",
              "  }\n",
              "\n",
              "  @keyframes spin {\n",
              "    0% {\n",
              "      border-color: transparent;\n",
              "      border-bottom-color: var(--fill-color);\n",
              "      border-left-color: var(--fill-color);\n",
              "    }\n",
              "    20% {\n",
              "      border-color: transparent;\n",
              "      border-left-color: var(--fill-color);\n",
              "      border-top-color: var(--fill-color);\n",
              "    }\n",
              "    30% {\n",
              "      border-color: transparent;\n",
              "      border-left-color: var(--fill-color);\n",
              "      border-top-color: var(--fill-color);\n",
              "      border-right-color: var(--fill-color);\n",
              "    }\n",
              "    40% {\n",
              "      border-color: transparent;\n",
              "      border-right-color: var(--fill-color);\n",
              "      border-top-color: var(--fill-color);\n",
              "    }\n",
              "    60% {\n",
              "      border-color: transparent;\n",
              "      border-right-color: var(--fill-color);\n",
              "    }\n",
              "    80% {\n",
              "      border-color: transparent;\n",
              "      border-right-color: var(--fill-color);\n",
              "      border-bottom-color: var(--fill-color);\n",
              "    }\n",
              "    90% {\n",
              "      border-color: transparent;\n",
              "      border-bottom-color: var(--fill-color);\n",
              "    }\n",
              "  }\n",
              "</style>\n",
              "\n",
              "  <script>\n",
              "    async function quickchart(key) {\n",
              "      const quickchartButtonEl =\n",
              "        document.querySelector('#' + key + ' button');\n",
              "      quickchartButtonEl.disabled = true;  // To prevent multiple clicks.\n",
              "      quickchartButtonEl.classList.add('colab-df-spinner');\n",
              "      try {\n",
              "        const charts = await google.colab.kernel.invokeFunction(\n",
              "            'suggestCharts', [key], {});\n",
              "      } catch (error) {\n",
              "        console.error('Error during call to suggestCharts:', error);\n",
              "      }\n",
              "      quickchartButtonEl.classList.remove('colab-df-spinner');\n",
              "      quickchartButtonEl.classList.add('colab-df-quickchart-complete');\n",
              "    }\n",
              "    (() => {\n",
              "      let quickchartButtonEl =\n",
              "        document.querySelector('#df-04bb631e-8ffe-4f62-a93f-6ed872f40211 button');\n",
              "      quickchartButtonEl.style.display =\n",
              "        google.colab.kernel.accessAllowed ? 'block' : 'none';\n",
              "    })();\n",
              "  </script>\n",
              "</div>\n",
              "\n",
              "  <div id=\"id_2d13dcca-7527-451f-aea2-e38b2e4d254c\">\n",
              "    <style>\n",
              "      .colab-df-generate {\n",
              "        background-color: #E8F0FE;\n",
              "        border: none;\n",
              "        border-radius: 50%;\n",
              "        cursor: pointer;\n",
              "        display: none;\n",
              "        fill: #1967D2;\n",
              "        height: 32px;\n",
              "        padding: 0 0 0 0;\n",
              "        width: 32px;\n",
              "      }\n",
              "\n",
              "      .colab-df-generate:hover {\n",
              "        background-color: #E2EBFA;\n",
              "        box-shadow: 0px 1px 2px rgba(60, 64, 67, 0.3), 0px 1px 3px 1px rgba(60, 64, 67, 0.15);\n",
              "        fill: #174EA6;\n",
              "      }\n",
              "\n",
              "      [theme=dark] .colab-df-generate {\n",
              "        background-color: #3B4455;\n",
              "        fill: #D2E3FC;\n",
              "      }\n",
              "\n",
              "      [theme=dark] .colab-df-generate:hover {\n",
              "        background-color: #434B5C;\n",
              "        box-shadow: 0px 1px 3px 1px rgba(0, 0, 0, 0.15);\n",
              "        filter: drop-shadow(0px 1px 2px rgba(0, 0, 0, 0.3));\n",
              "        fill: #FFFFFF;\n",
              "      }\n",
              "    </style>\n",
              "    <button class=\"colab-df-generate\" onclick=\"generateWithVariable('bars_df')\"\n",
              "            title=\"Generate code using this dataframe.\"\n",
              "            style=\"display:none;\">\n",
              "\n",
              "  <svg xmlns=\"http://www.w3.org/2000/svg\" height=\"24px\"viewBox=\"0 0 24 24\"\n",
              "       width=\"24px\">\n",
              "    <path d=\"M7,19H8.4L18.45,9,17,7.55,7,17.6ZM5,21V16.75L18.45,3.32a2,2,0,0,1,2.83,0l1.4,1.43a1.91,1.91,0,0,1,.58,1.4,1.91,1.91,0,0,1-.58,1.4L9.25,21ZM18.45,9,17,7.55Zm-12,3A5.31,5.31,0,0,0,4.9,8.1,5.31,5.31,0,0,0,1,6.5,5.31,5.31,0,0,0,4.9,4.9,5.31,5.31,0,0,0,6.5,1,5.31,5.31,0,0,0,8.1,4.9,5.31,5.31,0,0,0,12,6.5,5.46,5.46,0,0,0,6.5,12Z\"/>\n",
              "  </svg>\n",
              "    </button>\n",
              "    <script>\n",
              "      (() => {\n",
              "      const buttonEl =\n",
              "        document.querySelector('#id_2d13dcca-7527-451f-aea2-e38b2e4d254c button.colab-df-generate');\n",
              "      buttonEl.style.display =\n",
              "        google.colab.kernel.accessAllowed ? 'block' : 'none';\n",
              "\n",
              "      buttonEl.onclick = () => {\n",
              "        google.colab.notebook.generateWithVariable('bars_df');\n",
              "      }\n",
              "      })();\n",
              "    </script>\n",
              "  </div>\n",
              "\n",
              "    </div>\n",
              "  </div>\n"
            ],
            "application/vnd.google.colaboratory.intrinsic+json": {
              "type": "dataframe",
              "variable_name": "bars_df",
              "summary": "{\n  \"name\": \"bars_df\",\n  \"rows\": 251,\n  \"fields\": [\n    {\n      \"column\": \"open\",\n      \"properties\": {\n        \"dtype\": \"number\",\n        \"std\": 1.244051040014034,\n        \"min\": 23.87,\n        \"max\": 29.22,\n        \"num_unique_values\": 201,\n        \"samples\": [\n          29.04,\n          27.02,\n          27.12\n        ],\n        \"semantic_type\": \"\",\n        \"description\": \"\"\n      }\n    },\n    {\n      \"column\": \"high\",\n      \"properties\": {\n        \"dtype\": \"number\",\n        \"std\": 1.2407626506616054,\n        \"min\": 24.1,\n        \"max\": 29.43,\n        \"num_unique_values\": 212,\n        \"samples\": [\n          27.02,\n          27.72,\n          27.48\n        ],\n        \"semantic_type\": \"\",\n        \"description\": \"\"\n      }\n    },\n    {\n      \"column\": \"low\",\n      \"properties\": {\n        \"dtype\": \"number\",\n        \"std\": 1.2338531950373612,\n        \"min\": 23.83,\n        \"max\": 28.96,\n        \"num_unique_values\": 207,\n        \"samples\": [\n          28.01,\n          26.8,\n          27.75\n        ],\n        \"semantic_type\": \"\",\n        \"description\": \"\"\n      }\n    },\n    {\n      \"column\": \"close\",\n      \"properties\": {\n        \"dtype\": \"number\",\n        \"std\": 1.2428395364306126,\n        \"min\": 24.035,\n        \"max\": 29.31,\n        \"num_unique_values\": 213,\n        \"samples\": [\n          27.857,\n          25.69,\n          24.6442\n        ],\n        \"semantic_type\": \"\",\n        \"description\": \"\"\n      }\n    },\n    {\n      \"column\": \"volume\",\n      \"properties\": {\n        \"dtype\": \"number\",\n        \"std\": 20678.229541018347,\n        \"min\": 2707.0,\n        \"max\": 143104.0,\n        \"num_unique_values\": 249,\n        \"samples\": [\n          13039.0,\n          13777.0,\n          21085.0\n        ],\n        \"semantic_type\": \"\",\n        \"description\": \"\"\n      }\n    },\n    {\n      \"column\": \"trade_count\",\n      \"properties\": {\n        \"dtype\": \"number\",\n        \"std\": 76.06847533794169,\n        \"min\": 71.0,\n        \"max\": 683.0,\n        \"num_unique_values\": 144,\n        \"samples\": [\n          246.0,\n          157.0,\n          197.0\n        ],\n        \"semantic_type\": \"\",\n        \"description\": \"\"\n      }\n    },\n    {\n      \"column\": \"vwap\",\n      \"properties\": {\n        \"dtype\": \"number\",\n        \"std\": 1.237259315978657,\n        \"min\": 23.988511,\n        \"max\": 29.209306,\n        \"num_unique_values\": 251,\n        \"samples\": [\n          26.86992,\n          28.121487,\n          27.565305\n        ],\n        \"semantic_type\": \"\",\n        \"description\": \"\"\n      }\n    }\n  ]\n}"
            }
          },
          "metadata": {},
          "execution_count": 103
        }
      ]
    },
    {
      "cell_type": "code",
      "source": [
        "bars_df['close'].plot()"
      ],
      "metadata": {
        "colab": {
          "base_uri": "https://localhost:8080/",
          "height": 448
        },
        "id": "brKEgZico8Wd",
        "outputId": "09e7a6c0-7a7a-45bb-aa78-70698472a11d"
      },
      "execution_count": 104,
      "outputs": [
        {
          "output_type": "execute_result",
          "data": {
            "text/plain": [
              "<Axes: >"
            ]
          },
          "metadata": {},
          "execution_count": 104
        },
        {
          "output_type": "display_data",
          "data": {
            "text/plain": [
              "<Figure size 640x480 with 1 Axes>"
            ],
            "image/png": "[encoded data removed]"
          },
          "metadata": {}
        }
      ]
    },
    {
      "cell_type": "code",
      "source": [
        "#making data frame of stock prices into 2-dim list\n",
        "stock_data = bars_df.values.tolist()\n",
        "print(stock_data)"
      ],
      "metadata": {
        "colab": {
          "base_uri": "https://localhost:8080/"
        },
        "id": "aaNk5wJkcDg3",
        "outputId": "0b72298c-0e93-4e04-d3c7-32e51ce97465"
      },
      "execution_count": 105,
      "outputs": [
        {
          "output_type": "stream",
          "name": "stdout",
          "text": [
            "[[28.26, 28.26, 27.99, 28.03, 21054.0, 235.0, 28.048651], [27.87, 27.87, 27.44, 27.5, 143104.0, 683.0, 27.534114], [27.56, 27.81, 27.56, 27.7, 114477.0, 400.0, 27.700634], [27.5, 28.07, 27.5, 27.96, 24130.0, 196.0, 27.9451], [28.0, 28.2044, 28.0, 28.18, 11492.0, 155.0, 28.141768], [27.95, 28.46, 27.95, 28.32, 10517.0, 177.0, 28.251501], [28.32, 28.32, 28.07, 28.11, 13777.0, 148.0, 28.121487], [28.02, 28.35, 28.02, 28.1, 15352.0, 159.0, 28.206552], [28.22, 28.26, 27.9, 28.0247, 13244.0, 168.0, 28.017925], [27.83, 27.92, 27.76, 27.857, 97439.0, 309.0, 27.866577], [27.8, 27.92, 27.591, 27.64, 48996.0, 324.0, 27.705456], [27.58, 27.63, 27.501, 27.62, 24450.0, 486.0, 27.59177], [27.405, 27.51, 27.33, 27.347, 42734.0, 324.0, 27.37323], [27.31, 27.39, 27.15, 27.34, 22040.0, 272.0, 27.283226], [27.34, 27.34, 27.0675, 27.0718, 23799.0, 183.0, 27.148131], [27.02, 27.1405, 26.8, 27.09, 21902.0, 208.0, 27.035473], [27.43, 27.43, 26.8, 26.81, 19168.0, 257.0, 26.922124], [26.67, 26.67, 26.3201, 26.33, 21112.0, 247.0, 26.43481], [26.4, 26.64, 25.92, 25.9645, 26105.0, 266.0, 26.077453], [25.96, 26.345, 25.96, 26.29, 17559.0, 177.0, 26.191456], [26.36, 26.57, 26.27, 26.5078, 14516.0, 155.0, 26.498167], [26.67, 26.91, 26.6201, 26.8859, 29805.0, 276.0, 26.785456], [26.73, 26.89, 26.73, 26.8365, 6173.0, 157.0, 26.821257], [26.95, 26.95, 26.81, 26.885, 17214.0, 141.0, 26.849861], [26.87, 27.368, 26.87, 27.135, 16213.0, 219.0, 27.146994], [27.36, 27.54, 27.3399, 27.4395, 17988.0, 286.0, 27.428805], [27.3, 27.35, 27.16, 27.32, 16152.0, 158.0, 27.25174], [27.15, 27.38, 27.1456, 27.249, 13017.0, 127.0, 27.244252], [26.9494, 27.1, 26.9494, 27.03, 14487.0, 109.0, 27.063106], [27.03, 27.1199, 26.97, 27.0779, 11151.0, 141.0, 27.045172], [27.25, 27.34, 27.075, 27.15, 21260.0, 149.0, 27.182529], [27.12, 27.13, 27.0195, 27.095, 3467.0, 87.0, 27.052714], [27.19, 27.27, 27.0604, 27.18, 8695.0, 102.0, 27.184128], [27.0, 27.02, 26.88, 26.98, 6555.0, 126.0, 26.998147], [26.98, 27.21, 26.98, 27.21, 17338.0, 166.0, 27.122127], [27.31, 27.37, 27.25, 27.37, 10153.0, 121.0, 27.32023], [27.18, 27.26, 27.13, 27.18, 5309.0, 83.0, 27.170237], [26.88, 27.0, 26.85, 27.0, 14587.0, 99.0, 26.980127], [26.82, 26.91, 26.53, 26.71, 9336.0, 129.0, 26.704247], [26.35, 26.82, 26.35, 26.5, 18815.0, 163.0, 26.659154], [26.37, 26.37, 26.1105, 26.28, 34781.0, 165.0, 26.242402], [26.24, 26.3385, 26.21, 26.29, 21379.0, 178.0, 26.254045], [26.05, 26.2086, 26.05, 26.15, 7410.0, 110.0, 26.116742], [26.14, 26.35, 26.05, 26.32, 9973.0, 126.0, 26.265261], [26.11, 26.59, 26.11, 26.59, 8759.0, 110.0, 26.372214], [26.81, 26.81, 26.29, 26.41, 20044.0, 106.0, 26.421743], [26.21, 26.51, 26.2, 26.51, 11854.0, 112.0, 26.398154], [26.43, 26.4348, 26.295, 26.39, 11139.0, 99.0, 26.41823], [26.38, 26.6893, 26.38, 26.633, 38098.0, 224.0, 26.626359], [26.51, 26.77, 26.51, 26.517, 6930.0, 127.0, 26.60829], [26.5, 26.5, 26.11, 26.25, 11666.0, 130.0, 26.261452], [26.2, 26.305, 26.14, 26.165, 15343.0, 154.0, 26.230237], [25.98, 26.205, 25.84, 26.2, 13438.0, 149.0, 26.043869], [26.09, 26.12, 25.66, 25.675, 31787.0, 243.0, 25.848458], [25.66, 25.895, 25.66, 25.73, 5899.0, 88.0, 25.784665], [25.73, 25.73, 25.215, 25.2685, 24397.0, 217.0, 25.337584], [25.01, 25.33, 24.81, 24.8489, 27315.0, 290.0, 25.002673], [24.76, 24.9901, 24.695, 24.855, 22559.0, 135.0, 24.863901], [25.13, 25.16, 24.6, 24.6475, 20970.0, 240.0, 24.75629], [24.81, 25.173, 24.81, 25.04, 15157.0, 188.0, 25.042084], [25.12, 25.12, 24.795, 24.9066, 21651.0, 178.0, 24.91785], [24.89, 25.045, 24.725, 24.8268, 9186.0, 107.0, 24.918358], [24.7, 24.82, 24.51, 24.6485, 24064.0, 150.0, 24.672379], [24.83, 24.99, 24.8101, 24.92, 5408.0, 108.0, 24.912984], [24.66, 24.66, 24.21, 24.28, 26479.0, 243.0, 24.323812], [23.87, 24.11, 23.83, 24.0621, 13560.0, 182.0, 24.000044], [24.42, 24.57, 24.39, 24.429, 20276.0, 138.0, 24.480203], [24.52, 24.8, 24.52, 24.7324, 122219.0, 223.0, 24.716646], [24.74, 24.84, 24.61, 24.6442, 19150.0, 179.0, 24.696941], [24.68, 24.82, 24.6, 24.69, 10387.0, 130.0, 24.70474], [24.61, 24.719, 24.53, 24.53, 8032.0, 99.0, 24.658518], [24.5, 24.83, 24.5, 24.8101, 9802.0, 117.0, 24.617787], [24.85, 25.1799, 24.85, 25.1136, 14320.0, 175.0, 25.066537], [25.18, 25.3786, 25.1501, 25.2704, 12225.0, 158.0, 25.255023], [25.55, 25.989, 25.51, 25.84, 38835.0, 277.0, 25.783531], [25.7, 25.9221, 25.62, 25.8711, 8681.0, 148.0, 25.811654], [26.26, 26.79, 26.26, 26.77, 41488.0, 341.0, 26.505959], [27.18, 27.58, 27.18, 27.57, 47799.0, 413.0, 27.462608], [27.6, 27.7, 27.31, 27.64, 39001.0, 302.0, 27.550871], [27.78, 28.19, 27.75, 28.19, 41904.0, 367.0, 28.019189], [27.49, 27.69, 27.29, 27.6846, 132483.0, 395.0, 27.611789], [27.05, 27.2, 26.62, 27.06, 25767.0, 232.0, 27.023677], [27.05, 27.58, 27.05, 27.43, 36867.0, 200.0, 27.423537], [26.81, 27.04, 26.66, 26.9072, 38482.0, 210.0, 26.868497], [26.5, 26.5, 26.191, 26.3, 15907.0, 187.0, 26.342504], [26.25, 26.4465, 26.25, 26.27, 35528.0, 129.0, 26.34328], [26.681, 27.71, 26.5812, 27.3227, 51909.0, 375.0, 27.263962], [28.08, 28.1, 27.74, 27.9241, 25914.0, 237.0, 27.905846], [27.94, 28.17, 27.7, 27.754, 35981.0, 190.0, 27.892983], [27.84, 27.84, 27.48, 27.68, 10039.0, 140.0, 27.609416], [27.54, 27.54, 27.19, 27.19, 12965.0, 156.0, 27.292707], [27.45, 27.8016, 27.45, 27.59, 14131.0, 156.0, 27.659501], [27.86, 27.95, 27.78, 27.94, 12354.0, 142.0, 27.896404], [28.14, 28.23, 27.26, 27.2945, 41519.0, 219.0, 27.63969], [27.59, 28.13, 27.59, 28.1169, 14286.0, 167.0, 27.986739], [28.21, 28.28, 28.0, 28.25, 14560.0, 170.0, 28.175701], [28.4, 28.48, 28.22, 28.3, 19486.0, 187.0, 28.284797], [28.53, 28.78, 28.51, 28.6, 21085.0, 266.0, 28.623129], [29.1, 29.2, 28.75, 28.89, 35387.0, 247.0, 28.922506], [29.05, 29.05, 28.77, 28.86, 15627.0, 177.0, 28.911524], [28.67, 28.905, 28.67, 28.79, 18296.0, 137.0, 28.814755], [29.04, 29.43, 28.9099, 29.31, 48875.0, 341.0, 29.209306], [29.11, 29.2, 28.95, 29.19, 10851.0, 155.0, 29.124301], [29.09, 29.27, 28.96, 29.22, 14269.0, 161.0, 29.154583], [29.22, 29.3578, 28.72, 28.8, 20164.0, 189.0, 29.033836], [28.53, 28.7361, 28.41, 28.51, 14100.0, 171.0, 28.580126], [28.18, 28.18, 27.45, 27.65, 24657.0, 302.0, 27.759595], [27.62, 27.86, 27.55, 27.86, 20713.0, 161.0, 27.699515], [27.53, 27.57, 27.3003, 27.4, 33509.0, 197.0, 27.449199], [27.51, 27.695, 27.4, 27.53, 8891.0, 124.0, 27.553764], [28.0, 28.0, 27.68, 27.88, 45729.0, 213.0, 27.840607], [27.14, 27.278, 26.9288, 27.2, 27613.0, 275.0, 27.113799], [27.0, 27.38, 27.0, 27.272, 108775.0, 228.0, 27.281952], [27.5, 27.5, 27.3243, 27.4033, 7255.0, 106.0, 27.388335], [27.4, 27.63, 27.4, 27.55, 25506.0, 193.0, 27.584807], [27.55, 27.84, 27.24, 27.34, 22421.0, 174.0, 27.467751], [27.28, 27.67, 27.28, 27.57, 15730.0, 134.0, 27.608911], [27.52, 27.642, 27.24, 27.24, 19818.0, 154.0, 27.332439], [27.42, 27.77, 27.42, 27.62, 20332.0, 157.0, 27.693649], [27.76, 28.0004, 27.63, 27.89, 9606.0, 153.0, 27.896688], [28.13, 28.31, 28.09, 28.31, 23559.0, 272.0, 28.245892], [28.7, 28.74, 28.32, 28.42, 24252.0, 243.0, 28.457548], [28.39, 28.42, 27.95, 28.0, 14856.0, 192.0, 28.171213], [28.05, 28.4, 27.74, 28.4, 12825.0, 157.0, 28.164867], [28.44, 28.61, 28.37, 28.61, 14732.0, 145.0, 28.468482], [28.75, 28.8799, 28.57, 28.57, 27500.0, 204.0, 28.746225], [29.07, 29.15, 28.9234, 29.14, 54266.0, 289.0, 29.0476], [29.01, 29.1, 28.9, 28.94, 9164.0, 170.0, 28.996047], [29.13, 29.13, 28.75, 28.82, 17858.0, 157.0, 28.831682], [28.72, 28.775, 28.4, 28.41, 31822.0, 208.0, 28.588968], [28.77, 28.77, 28.42, 28.52, 82375.0, 198.0, 28.461147], [28.36, 28.5561, 28.3, 28.49, 15025.0, 167.0, 28.458444], [28.66, 28.7882, 28.55, 28.57, 11425.0, 126.0, 28.676866], [28.51, 28.51, 28.3108, 28.36, 11867.0, 135.0, 28.371039], [28.3, 28.48, 28.2404, 28.48, 8976.0, 106.0, 28.395321], [28.49, 28.61, 28.49, 28.6, 11855.0, 122.0, 28.563111], [28.4, 28.415, 28.0, 28.16, 24290.0, 239.0, 28.184537], [28.11, 28.27, 27.96, 28.25, 13039.0, 131.0, 28.142611], [28.19, 28.5, 28.171, 28.49, 17518.0, 140.0, 28.408769], [28.28, 28.3, 27.98, 28.03, 13796.0, 148.0, 28.047119], [27.93, 27.93, 27.551, 27.59, 113371.0, 178.0, 27.653395], [27.46, 27.64, 27.46, 27.59, 15650.0, 160.0, 27.565209], [27.788, 27.788, 27.51, 27.66, 12788.0, 133.0, 27.685945], [27.4, 27.47, 27.2, 27.23, 52166.0, 164.0, 27.235195], [27.25, 27.35, 27.2, 27.26, 9683.0, 118.0, 27.276816], [27.24, 27.41, 27.1, 27.37, 13413.0, 148.0, 27.261721], [27.45, 27.5, 27.2438, 27.44, 7314.0, 108.0, 27.38226], [27.54, 27.77, 27.51, 27.51, 14280.0, 151.0, 27.593003], [27.39, 27.53, 27.37, 27.53, 14475.0, 149.0, 27.464804], [27.42, 27.54, 27.06, 27.07, 81458.0, 191.0, 27.482804], [27.03, 27.22, 26.82, 27.1824, 12691.0, 166.0, 27.098916], [27.11, 27.136, 26.91, 27.1089, 21059.0, 154.0, 27.003322], [27.05, 27.12, 26.98, 27.07, 18474.0, 105.0, 27.032787], [27.06, 27.19, 26.8876, 27.19, 25085.0, 215.0, 27.039601], [27.19, 27.19, 26.89, 26.9147, 9920.0, 131.0, 27.0525], [26.99, 26.99, 26.8001, 26.82, 2802.0, 85.0, 26.86992], [26.845, 26.99, 26.845, 26.965, 6743.0, 123.0, 26.907564], [26.87, 26.88, 26.594, 26.64, 17781.0, 157.0, 26.689865], [26.78, 27.46, 26.7, 27.3, 38232.0, 206.0, 27.253841], [27.44, 27.44, 26.98, 27.1404, 6441.0, 123.0, 27.159545], [27.13, 27.27, 27.11, 27.27, 12371.0, 115.0, 27.18535], [27.29, 27.48, 27.29, 27.4695, 16170.0, 148.0, 27.445898], [27.61, 27.69, 27.33, 27.68, 18766.0, 151.0, 27.590445], [27.6, 27.76, 27.4716, 27.73, 14569.0, 131.0, 27.640786], [27.5918, 27.68, 27.46, 27.46, 22384.0, 294.0, 27.565305], [27.31, 27.51, 27.25, 27.2606, 34612.0, 182.0, 27.312437], [27.38, 27.42, 27.25, 27.395, 22784.0, 105.0, 27.35552], [27.43, 27.44, 27.12, 27.295, 12923.0, 127.0, 27.244611], [27.491, 27.491, 27.15, 27.19, 8073.0, 113.0, 27.246022], [27.4601, 27.66, 27.4601, 27.5559, 7311.0, 120.0, 27.557472], [27.56, 27.5916, 27.34, 27.38, 6927.0, 100.0, 27.409936], [27.305, 27.55, 27.305, 27.4359, 2707.0, 73.0, 27.444502], [27.46, 27.5599, 27.46, 27.4946, 5376.0, 109.0, 27.50322], [27.7, 27.84, 27.66, 27.78, 33659.0, 203.0, 27.79961], [28.05, 28.2899, 27.986, 28.2673, 31929.0, 246.0, 28.142594], [28.49, 28.53, 28.35, 28.46, 27139.0, 235.0, 28.461883], [28.4, 28.658, 28.21, 28.37, 37696.0, 236.0, 28.432259], [28.6, 28.635, 28.32, 28.3668, 11302.0, 140.0, 28.5229], [28.33, 28.48, 27.85, 28.07, 42987.0, 207.0, 28.131635], [28.11, 28.11, 27.923, 28.07, 21616.0, 132.0, 28.025088], [28.15, 28.82, 28.15, 28.82, 30968.0, 191.0, 28.542493], [28.59, 28.91, 28.52, 28.91, 18880.0, 207.0, 28.716359], [28.81, 28.885, 28.75, 28.8525, 18055.0, 129.0, 28.821929], [28.59, 28.6385, 28.24, 28.3424, 18575.0, 136.0, 28.417152], [28.18, 28.192, 28.02, 28.12, 50801.0, 214.0, 28.107201], [28.34, 28.575, 28.1533, 28.5683, 20131.0, 249.0, 28.318356], [28.81, 28.949, 28.5519, 28.758, 16675.0, 108.0, 28.726533], [28.63, 28.6599, 28.42, 28.5, 21031.0, 118.0, 28.535022], [28.43, 28.43, 27.934, 27.934, 7772.0, 130.0, 28.049851], [28.04, 28.04, 27.83, 28.0, 13902.0, 153.0, 27.927182], [28.01, 28.34, 28.01, 28.32, 11829.0, 155.0, 28.234626], [28.28, 28.32, 28.14, 28.3, 6974.0, 122.0, 28.246259], [28.19, 28.275, 28.19, 28.25, 6429.0, 71.0, 28.234093], [28.0, 28.13, 27.86, 27.98, 16338.0, 175.0, 27.983157], [27.84, 27.99, 27.54, 27.65, 35309.0, 172.0, 27.759419], [27.71, 27.7251, 27.361, 27.63, 22899.0, 214.0, 27.600731], [27.56, 27.56, 27.36, 27.44, 19168.0, 107.0, 27.403912], [27.46, 27.75, 27.44, 27.72, 4397.0, 94.0, 27.604428], [27.82, 27.9805, 27.43, 27.63, 46531.0, 199.0, 27.639787], [27.73, 28.16, 27.73, 28.16, 21354.0, 155.0, 28.003997], [27.99, 28.06, 27.7901, 27.92, 40572.0, 277.0, 27.900438], [27.72, 27.72, 27.53, 27.71, 34104.0, 228.0, 27.598522], [27.71, 27.85, 27.66, 27.84, 11814.0, 120.0, 27.726335], [27.49, 27.9, 27.49, 27.72, 5803.0, 90.0, 27.674358], [27.77, 27.93, 27.601, 27.93, 15350.0, 115.0, 27.766419], [27.63, 27.9899, 27.48, 27.53, 12375.0, 161.0, 27.570023], [27.55, 27.55, 27.34, 27.34, 8917.0, 111.0, 27.465929], [27.39, 27.4, 27.08, 27.15, 12049.0, 155.0, 27.200342], [27.19, 27.28, 27.15, 27.15, 5758.0, 89.0, 27.215049], [27.33, 27.48, 27.12, 27.48, 18529.0, 136.0, 27.369753], [27.3158, 27.449, 27.3, 27.4194, 6512.0, 75.0, 27.371303], [27.48, 27.57, 27.24, 27.28, 14576.0, 122.0, 27.430909], [27.22, 27.22, 26.95, 27.0107, 21311.0, 161.0, 27.054995], [27.02, 27.02, 26.37, 26.55, 17510.0, 213.0, 26.538599], [26.46, 26.67, 26.4412, 26.64, 18937.0, 115.0, 26.556231], [26.39, 26.525, 26.24, 26.47, 29859.0, 186.0, 26.424006], [26.13, 26.4, 26.13, 26.18, 14977.0, 157.0, 26.287872], [25.97, 26.05, 25.805, 26.05, 21102.0, 182.0, 25.980883], [25.9, 26.11, 25.85, 26.11, 9995.0, 134.0, 25.997236], [25.85, 26.06, 25.85, 25.93, 13779.0, 181.0, 25.919018], [25.85, 26.04, 25.85, 26.0, 13531.0, 140.0, 25.986778], [26.27, 26.27, 25.38, 25.85, 37983.0, 363.0, 25.660985], [25.9, 25.9899, 25.66, 25.83, 74434.0, 420.0, 25.830984], [25.5, 25.66, 25.34, 25.39, 22861.0, 232.0, 25.499201], [25.4, 25.55, 25.3467, 25.54, 9699.0, 97.0, 25.479938], [25.75, 25.82, 25.46, 25.55, 14092.0, 148.0, 25.58037], [25.15, 25.73, 25.15, 25.71, 21288.0, 211.0, 25.561863], [25.5, 25.99, 25.5, 25.99, 14807.0, 148.0, 25.804751], [26.06, 26.07, 25.8627, 25.97, 10802.0, 129.0, 25.949113], [26.13, 26.13, 25.522, 25.62, 28112.0, 170.0, 25.707933], [25.39, 25.5099, 25.15, 25.37, 13918.0, 186.0, 25.395536], [25.22, 25.38, 25.0701, 25.24, 13617.0, 233.0, 25.179817], [25.4, 25.72, 25.24, 25.69, 22229.0, 165.0, 25.580223], [25.57, 25.73, 25.47, 25.73, 29989.0, 196.0, 25.611635], [25.57, 25.57, 25.31, 25.39, 17223.0, 157.0, 25.434973], [25.29, 25.3016, 25.0, 25.06, 33273.0, 297.0, 25.146635], [25.05, 25.19, 24.82, 25.16, 39717.0, 247.0, 25.070944], [25.25, 25.319, 25.1705, 25.28, 11075.0, 111.0, 25.256885], [25.11, 25.12, 24.88, 25.01, 15232.0, 149.0, 25.023772], [25.08, 25.2886, 24.84, 25.17, 21674.0, 210.0, 25.097655], [25.1, 25.11, 24.85, 24.87, 14619.0, 202.0, 24.923761], [25.03, 25.1167, 25.0, 25.06, 15897.0, 164.0, 25.059965], [25.07, 25.07, 24.86, 24.96, 24914.0, 157.0, 24.941771], [24.98, 24.98, 24.53, 24.61, 29255.0, 233.0, 24.686168], [24.54, 24.65, 24.36, 24.47, 31643.0, 228.0, 24.486633], [24.569, 24.65, 24.52, 24.65, 16522.0, 113.0, 24.56504], [24.77, 24.899, 24.645, 24.7842, 17988.0, 212.0, 24.808517], [24.58, 24.58, 24.3601, 24.41, 16501.0, 199.0, 24.460454], [24.43, 24.47, 24.13, 24.22, 38349.0, 265.0, 24.261405], [24.14, 24.1401, 23.94, 24.05, 28601.0, 298.0, 24.031474], [23.95, 24.1, 23.8478, 24.035, 43328.0, 207.0, 23.988511]]\n"
          ]
        }
      ]
    },
    {
      "cell_type": "markdown",
      "source": [
        "# Detrending\n",
        "\n",
        "## Check for the existence of a trend"
      ],
      "metadata": {
        "id": "HbzVa4PTcMno"
      }
    },
    {
      "cell_type": "code",
      "source": [
        "# import numpy as np\n",
        "# import statsmodels.api as sm\n",
        "\n",
        "# # Assuming bars_df is your DataFrame containing the data\n",
        "# # Extract 'close' column\n",
        "# X = bars_df['close']\n",
        "\n",
        "# # Extract index as the dependent variable\n",
        "# Y = bars_df.index\n",
        "\n",
        "# # Add a constant to the independent variable (X) to fit an intercept\n",
        "# X = sm.add_constant(X)\n",
        "\n",
        "# # Fit the linear regression model\n",
        "# model = sm.OLS(Y, X).fit()\n",
        "\n",
        "# # Print the summary of the regression results\n",
        "# print(model.summary())\n",
        "\n",
        "# # Extract the p-value of the coefficient for the independent variable\n",
        "# p_value = model.pvalues[1]  # Index 1 corresponds to the independent variable coefficient\n",
        "# print(\"P-value:\", p_value)"
      ],
      "metadata": {
        "id": "N1DD6GarfMbc"
      },
      "execution_count": null,
      "outputs": []
    },
    {
      "cell_type": "code",
      "source": [
        "# #detrending the data for open and close prices\n",
        "# dtrend_open, dtrend_close = [], []\n",
        "\n",
        "# for i in range(len(stock_data) - 1):\n",
        "#     dtrend_open.append(float(stock_data[i][0]) - float(stock_data[i + 1][0]))\n",
        "#     dtrend_close.append(float(stock_data[i][3]) - float(stock_data[i + 1][3]))"
      ],
      "metadata": {
        "id": "BHVzUFBzcNuX"
      },
      "execution_count": 85,
      "outputs": []
    },
    {
      "cell_type": "code",
      "source": [
        "# print(dtrend_open)"
      ],
      "metadata": {
        "id": "xvanEAwOpgXY"
      },
      "execution_count": null,
      "outputs": []
    },
    {
      "cell_type": "markdown",
      "source": [
        "FFT"
      ],
      "metadata": {
        "id": "NamZ3tOIcXqp"
      }
    },
    {
      "cell_type": "code",
      "source": [
        "dtrend_close = bars_df['close'].values.tolist()\n",
        "print(dtrend_close)"
      ],
      "metadata": {
        "colab": {
          "base_uri": "https://localhost:8080/"
        },
        "id": "mD4FrP1MppSq",
        "outputId": "1803b65a-1dd0-451a-819d-32b5d4a999da"
      },
      "execution_count": 106,
      "outputs": [
        {
          "output_type": "stream",
          "name": "stdout",
          "text": [
            "[28.03, 27.5, 27.7, 27.96, 28.18, 28.32, 28.11, 28.1, 28.0247, 27.857, 27.64, 27.62, 27.347, 27.34, 27.0718, 27.09, 26.81, 26.33, 25.9645, 26.29, 26.5078, 26.8859, 26.8365, 26.885, 27.135, 27.4395, 27.32, 27.249, 27.03, 27.0779, 27.15, 27.095, 27.18, 26.98, 27.21, 27.37, 27.18, 27.0, 26.71, 26.5, 26.28, 26.29, 26.15, 26.32, 26.59, 26.41, 26.51, 26.39, 26.633, 26.517, 26.25, 26.165, 26.2, 25.675, 25.73, 25.2685, 24.8489, 24.855, 24.6475, 25.04, 24.9066, 24.8268, 24.6485, 24.92, 24.28, 24.0621, 24.429, 24.7324, 24.6442, 24.69, 24.53, 24.8101, 25.1136, 25.2704, 25.84, 25.8711, 26.77, 27.57, 27.64, 28.19, 27.6846, 27.06, 27.43, 26.9072, 26.3, 26.27, 27.3227, 27.9241, 27.754, 27.68, 27.19, 27.59, 27.94, 27.2945, 28.1169, 28.25, 28.3, 28.6, 28.89, 28.86, 28.79, 29.31, 29.19, 29.22, 28.8, 28.51, 27.65, 27.86, 27.4, 27.53, 27.88, 27.2, 27.272, 27.4033, 27.55, 27.34, 27.57, 27.24, 27.62, 27.89, 28.31, 28.42, 28.0, 28.4, 28.61, 28.57, 29.14, 28.94, 28.82, 28.41, 28.52, 28.49, 28.57, 28.36, 28.48, 28.6, 28.16, 28.25, 28.49, 28.03, 27.59, 27.59, 27.66, 27.23, 27.26, 27.37, 27.44, 27.51, 27.53, 27.07, 27.1824, 27.1089, 27.07, 27.19, 26.9147, 26.82, 26.965, 26.64, 27.3, 27.1404, 27.27, 27.4695, 27.68, 27.73, 27.46, 27.2606, 27.395, 27.295, 27.19, 27.5559, 27.38, 27.4359, 27.4946, 27.78, 28.2673, 28.46, 28.37, 28.3668, 28.07, 28.07, 28.82, 28.91, 28.8525, 28.3424, 28.12, 28.5683, 28.758, 28.5, 27.934, 28.0, 28.32, 28.3, 28.25, 27.98, 27.65, 27.63, 27.44, 27.72, 27.63, 28.16, 27.92, 27.71, 27.84, 27.72, 27.93, 27.53, 27.34, 27.15, 27.15, 27.48, 27.4194, 27.28, 27.0107, 26.55, 26.64, 26.47, 26.18, 26.05, 26.11, 25.93, 26.0, 25.85, 25.83, 25.39, 25.54, 25.55, 25.71, 25.99, 25.97, 25.62, 25.37, 25.24, 25.69, 25.73, 25.39, 25.06, 25.16, 25.28, 25.01, 25.17, 24.87, 25.06, 24.96, 24.61, 24.47, 24.65, 24.7842, 24.41, 24.22, 24.05, 24.035]\n"
          ]
        }
      ]
    },
    {
      "cell_type": "code",
      "source": [
        "\n",
        "freq = ft.fftfreq(len(dtrend_close))\n",
        "spec = np.abs(ft.fft(dtrend_close))\n",
        "\n",
        "# Find indices of dominant frequencies\n",
        "num_dom_freq = 5  # Adjust as needed\n",
        "dominant_indices = np.argsort(spec)[::-1][:num_dom_freq]"
      ],
      "metadata": {
        "id": "lr-Cmv-hcOgM"
      },
      "execution_count": 107,
      "outputs": []
    },
    {
      "cell_type": "code",
      "source": [
        "# Extract dominant frequencies\n",
        "dominant_freq = freq[dominant_indices]\n",
        "\n",
        "print(\"Dominant frequencies:\", dominant_freq)"
      ],
      "metadata": {
        "colab": {
          "base_uri": "https://localhost:8080/"
        },
        "id": "nYd94vY1cRgF",
        "outputId": "6e97ff29-cd86-46d7-fc9f-00e220586b55"
      },
      "execution_count": 108,
      "outputs": [
        {
          "output_type": "stream",
          "name": "stdout",
          "text": [
            "Dominant frequencies: [ 0.          0.01195219 -0.01195219  0.00398406 -0.00398406]\n"
          ]
        }
      ]
    },
    {
      "cell_type": "code",
      "source": [
        "# Forecasting up to 45 periods in advance\n",
        "forecast_periods = 25\n",
        "\n",
        "# Extend the spectrum for forecasting\n",
        "extended_spec = np.concatenate((spec, np.zeros(forecast_periods)))\n",
        "\n",
        "# Inverse FFT to get the forecasted data\n",
        "forecast = np.real(ft.ifft(extended_spec))\n",
        "\n",
        "# Plotting the original and forecasted data\n",
        "plt.plot(dtrend_close, label='Original Data')\n",
        "plt.plot(range(len(dtrend_close), len(dtrend_close) + forecast_periods), forecast[-forecast_periods:], label='Forecasted Data')\n",
        "plt.legend()\n",
        "plt.show()"
      ],
      "metadata": {
        "colab": {
          "base_uri": "https://localhost:8080/",
          "height": 430
        },
        "id": "Wn32X_0ocTXY",
        "outputId": "ba8703e6-7b7e-41b2-b4c1-8198d01491a6"
      },
      "execution_count": 115,
      "outputs": [
        {
          "output_type": "display_data",
          "data": {
            "text/plain": [
              "<Figure size 640x480 with 1 Axes>"
            ],
            "image/png": "[encoded data removed]"
          },
          "metadata": {}
        }
      ]
    },
    {
      "cell_type": "code",
      "source": [],
      "metadata": {
        "id": "4Eyf0xIVqBCE"
      },
      "execution_count": null,
      "outputs": []
    }
  ]
}